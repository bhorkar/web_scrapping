{
 "cells": [
  {
   "cell_type": "code",
   "execution_count": 1,
   "metadata": {
    "collapsed": false
   },
   "outputs": [],
   "source": [
    "# The standard library modules\n",
    "import os\n",
    "import sys\n",
    "\n",
    "# The wget module\n",
    "import wget\n",
    "\n",
    "# The BeautifulSoup module\n",
    "from bs4 import BeautifulSoup\n",
    "import re\n",
    "\n",
    "# The selenium module\n",
    "from selenium import webdriver\n",
    "from selenium.webdriver.common.keys import Keys\n",
    "from selenium.webdriver.support.ui import WebDriverWait\n",
    "from selenium.webdriver.support import expected_conditions as EC\n",
    "from selenium.webdriver.common.by import By\n",
    "\n",
    "import stem\n",
    "from stem import Signal\n",
    "from stem.control import Controller\n",
    "from stem.connection import connect\n",
    "import time\n",
    "\n",
    "executable_path='/home/bhorkar/node_modules/phantomjs-prebuilt/lib/phantom/bin//phantomjs'\n"
   ]
  },
  {
   "cell_type": "code",
   "execution_count": 2,
   "metadata": {
    "collapsed": false
   },
   "outputs": [],
   "source": [
    "'''\n",
    "Python script to connect to Tor via Stem and Privoxy, requesting a new connection (hence a new IP as well) as desired.\n",
    "'''\n",
    "\n",
    "import stem\n",
    "import stem.connection\n",
    "\n",
    "import time\n",
    "import urllib2\n",
    "\n",
    "from stem import Signal\n",
    "from stem.control import Controller\n",
    "\n",
    "# initialize some HTTP headers\n",
    "# for later usage in URL requests\n",
    "user_agent = 'Mozilla/5.0 (Windows; U; Windows NT 5.1; en-US; rv:1.9.0.7) Gecko/2009021910 Firefox/3.0.7'\n",
    "headers={'User-Agent':user_agent}\n",
    "\n",
    "\n",
    "# initialize some\n",
    "# holding variables\n",
    "oldIP = \"0.0.0.0\"\n",
    "newIP = \"0.0.0.0\"\n",
    "\n",
    "# how many IP addresses\n",
    "# through which to iterate?\n",
    "nbrOfIpAddresses = 1\n",
    "\n",
    "# seconds between\n",
    "# IP address checks\n",
    "secondsBetweenChecks = 2\n",
    "\n",
    "# request a URL \n",
    "def request(url):\n",
    "    # communicate with TOR via a local proxy (privoxy)\n",
    "    def _set_urlproxy():\n",
    "        proxy_support = urllib2.ProxyHandler({\"http\" : \"127.0.0.1:8118\"})\n",
    "        opener = urllib2.build_opener(proxy_support)\n",
    "        urllib2.install_opener(opener)\n",
    "\n",
    "    # request a URL\n",
    "    # via the proxy\n",
    "    _set_urlproxy()\n",
    "    request=urllib2.Request(url, None, headers)\n",
    "    return urllib2.urlopen(request).read()\n",
    "\n",
    "# signal TOR for a new connection \n",
    "def renew_connection():\n",
    "    with Controller.from_port(port = 9051) as controller:\n",
    "        controller.authenticate(password = 'garbage123')\n",
    "        controller.signal(Signal.NEWNYM)\n",
    "        controller.close()\n",
    "        \n",
    "\n",
    "\n",
    "ua_list = []\n",
    "with open('ualist.txt') as ua:\n",
    "    for line in ua:\n",
    "        ua_list.append(line.strip())\n",
    "#print ua_list\n",
    "ua_list_len = len(ua_list)\n",
    "\n",
    "import random\n",
    "\n",
    "#def request(url,ua_list = ua_list,ua_list_len = ua_list_len):\n",
    "#    ua = ua_list[random.randint(0,ua_list_len-1)]\n",
    "#    headers={'User-Agent': ua}\n",
    "#    request=urllib2.Request(url, None, headers)\n",
    "#    return urllib2.urlopen(request).read()        \n"
   ]
  },
  {
   "cell_type": "code",
   "execution_count": 3,
   "metadata": {
    "collapsed": false
   },
   "outputs": [
    {
     "name": "stdout",
     "output_type": "stream",
     "text": [
      "INFO[Thu Jun 01 23:40:16 2017]:Event loop received close message.\n",
      "146.185.177.103\n",
      "\n",
      "INFO[Thu Jun 01 23:40:28 2017]:Event loop received close message.\n",
      "62.102.148.67\n",
      "\n",
      "INFO[Thu Jun 01 23:40:29 2017]:Event loop received close message.\n",
      "62.102.148.67\n",
      "\n",
      "INFO[Thu Jun 01 23:40:31 2017]:Event loop received close message.\n",
      "62.102.148.67\n",
      "\n",
      "INFO[Thu Jun 01 23:40:32 2017]:Event loop received close message.\n",
      "62.102.148.67\n",
      "\n",
      "INFO[Thu Jun 01 23:40:35 2017]:Event loop received close message.\n",
      "62.102.148.67\n",
      "\n",
      "INFO[Thu Jun 01 23:40:36 2017]:Event loop received close message.\n",
      "62.102.148.67\n",
      "\n",
      "INFO[Thu Jun 01 23:40:38 2017]:Event loop received close message.\n",
      "163.172.223.200\n",
      "\n",
      "INFO[Thu Jun 01 23:40:39 2017]:Event loop received close message.\n",
      "163.172.223.200\n",
      "\n",
      "INFO[Thu Jun 01 23:40:40 2017]:Event loop received close message.\n",
      "INFO[Thu Jun 01 23:40:40 2017]:Closed control connection. Exiting thread.\n",
      "163.172.223.200\n",
      "\n"
     ]
    }
   ],
   "source": [
    "from TorCtl import TorCtl\n",
    "import urllib2\n",
    " \n",
    "user_agent = 'Mozilla/5.0 (Windows; U; Windows NT 5.1; en-US; rv:1.9.0.7) Gecko/2009021910 Firefox/3.0.7'\n",
    "headers={'User-Agent':user_agent}\n",
    " \n",
    "def request(url):\n",
    "    def _set_urlproxy():\n",
    "        proxy_support = urllib2.ProxyHandler({\"http\" : \"127.0.0.1:8118\"})\n",
    "        opener = urllib2.build_opener(proxy_support)\n",
    "        urllib2.install_opener(opener)\n",
    "    _set_urlproxy()\n",
    "    request=urllib2.Request(url, None, headers)\n",
    "    return urllib2.urlopen(request).read()\n",
    " \n",
    "def renew_connection():\n",
    "    conn = TorCtl.connect(controlAddr=\"127.0.0.1\", controlPort=9051, passphrase=\"garbage123\")\n",
    "    conn.send_signal(\"NEWNYM\")\n",
    "    conn.close()\n",
    " \n",
    "for i in range(0, 10):\n",
    "    renew_connection()\n",
    "    print request(\"http://icanhazip.com/\")"
   ]
  },
  {
   "cell_type": "code",
   "execution_count": null,
   "metadata": {
    "collapsed": false
   },
   "outputs": [],
   "source": [
    "\n",
    "# cycle through\n",
    "# the specified number\n",
    "# of IP addresses via TOR \n",
    "def changeip(newIP):\n",
    " for i in range(0, nbrOfIpAddresses):\n",
    "\n",
    "    # if it's the first pass\n",
    "    if newIP == \"0.0.0.0\":\n",
    "        # renew the TOR connection\n",
    "        renew_connection()\n",
    "        # obtain the \"new\" IP address\n",
    "        newIP = request(\"http://icanhazip.com/\")\n",
    "    # otherwise\n",
    "    else:\n",
    "        # remember the\n",
    "        # \"new\" IP address\n",
    "        # as the \"old\" IP address\n",
    "        oldIP = newIP\n",
    "        # refresh the TOR connection\n",
    "        renew_connection()\n",
    "        # obtain the \"new\" IP address\n",
    "        newIP = request(\"http://icanhazip.com/\")\n",
    "        print newIP\n",
    "\n",
    "    # zero the \n",
    "    # elapsed seconds    \n",
    "    seconds = 0\n",
    "\n",
    "    # loop until the \"new\" IP address\n",
    "    # is different than the \"old\" IP address,\n",
    "    # as it may take the TOR network some\n",
    "    # time to effect a different IP address\n",
    "    while oldIP == newIP:\n",
    "        # sleep this thread\n",
    "        # for the specified duration\n",
    "        time.sleep(secondsBetweenChecks)\n",
    "        # track the elapsed seconds\n",
    "        seconds += secondsBetweenChecks\n",
    "        # obtain the current IP address\n",
    "        newIP = request(\"http://icanhazip.com/\")\n",
    "        # signal that the program is still awaiting a different IP address\n",
    "        #print (\"%d seconds elapsed awaiting a different IP address.\" % seconds)\n",
    "    # output the\n",
    "    # new IP address\n",
    " #   print (\"\")\n",
    "    print (\"newIP: %s\" % newIP)\n",
    "    return "
   ]
  },
  {
   "cell_type": "code",
   "execution_count": null,
   "metadata": {
    "collapsed": false
   },
   "outputs": [],
   "source": [
    "newIP = changeip(newIP);"
   ]
  },
  {
   "cell_type": "code",
   "execution_count": 33,
   "metadata": {
    "collapsed": false
   },
   "outputs": [],
   "source": [
    "import requests"
   ]
  },
  {
   "cell_type": "code",
   "execution_count": 34,
   "metadata": {
    "collapsed": true
   },
   "outputs": [],
   "source": [
    "def loading_link(items):\n",
    " shop_urls = [];\n",
    " for elem in items:\n",
    "   # print elem.get_attribute(\"id\")\n",
    "    id = elem.get_attribute(\"id\");\n",
    "    img_count = 0;\n",
    "    try:\n",
    "     street_links = elem.find_elements_by_xpath(\".//img[contains(@class, 'ltk-image')]\")\n",
    "     idx = 0;\n",
    "     for sl in street_links:\n",
    "           idx = idx + 1;\n",
    "           #print sl.get_attribute(\"src\")\n",
    "           response = requests.get(sl.get_attribute('src')).content\n",
    "           with open('street/%s.jpeg' % ( id + '_' + str(idx)), 'wb') as f:\n",
    "                         f.write(response)\n",
    "     shop_links = elem.find_elements_by_xpath(\".//a[contains(@href, ')]\")\n",
    "     url_idx = 0;\n",
    "     for sl in shop_links:\n",
    "        url_idx = url_idx + 1;\n",
    "        shop_urls.append((id,url_idx,sl.get_attribute(\"href\")))\n",
    "    except:\n",
    "      continue;   \n",
    "  #  break;\n",
    " #print \"loading #urls\", len(shop_urls)\n",
    " #print shop_urls;\n",
    " return shop_urls;\n"
   ]
  },
  {
   "cell_type": "code",
   "execution_count": 6,
   "metadata": {
    "collapsed": false
   },
   "outputs": [],
   "source": [
    "from selenium import webdriver\n",
    "link = \"https://www.liketoknow.it/stylethegirl\" # load the web page\n",
    "\n",
    "driver = webdriver.PhantomJS(executable_path = executable_path)\n",
    "# it takes forever to load the page, therefore we are setting a threshold\n",
    "driver.set_page_load_timeout(500)\n",
    "driver.get(link)\n",
    "\n",
    "\n"
   ]
  },
  {
   "cell_type": "code",
   "execution_count": null,
   "metadata": {
    "collapsed": false
   },
   "outputs": [],
   "source": [
    "\n"
   ]
  },
  {
   "cell_type": "code",
   "execution_count": 25,
   "metadata": {
    "collapsed": true
   },
   "outputs": [],
   "source": [
    "driver.get(link)"
   ]
  },
  {
   "cell_type": "code",
   "execution_count": 26,
   "metadata": {
    "collapsed": false
   },
   "outputs": [],
   "source": [
    "# Load Twitter page and click to view all results\n",
    "\n",
    "#lems = driver.find_elements_by_xpath(\"//a[contains(@href,'rstyle.me')]\")\n",
    " \n",
    "street_urls = [];\n",
    "pause = 1;\n",
    "lastHeight = driver.execute_script(\"return document.body.scrollHeight\")\n",
    "while True:\n",
    "    driver.execute_script(\"window.scrollTo(0, document.body.scrollHeight);\")\n",
    "    time.sleep(pause)\n",
    "    newHeight = driver.execute_script(\"return document.body.scrollHeight\")\n",
    "    if newHeight == lastHeight:\n",
    "        break\n",
    "    lastHeight = newHeight\n"
   ]
  },
  {
   "cell_type": "code",
   "execution_count": 27,
   "metadata": {
    "collapsed": false
   },
   "outputs": [],
   "source": [
    "\n",
    "items = driver.find_elements_by_xpath(\"//div[contains(@class, 'ltk-item')]\")\n",
    "\n"
   ]
  },
  {
   "cell_type": "code",
   "execution_count": 28,
   "metadata": {
    "collapsed": false
   },
   "outputs": [
    {
     "name": "stdout",
     "output_type": "stream",
     "text": [
      "Number of items 840\n"
     ]
    }
   ],
   "source": [
    "print \"Number of items {}\".format(len(items))\n"
   ]
  },
  {
   "cell_type": "code",
   "execution_count": 35,
   "metadata": {
    "collapsed": false
   },
   "outputs": [],
   "source": [
    "\n",
    "shop_urls = loading_link(items);"
   ]
  },
  {
   "cell_type": "code",
   "execution_count": null,
   "metadata": {
    "collapsed": true
   },
   "outputs": [],
   "source": [
    "\n",
    "    "
   ]
  },
  {
   "cell_type": "code",
   "execution_count": 36,
   "metadata": {
    "collapsed": false
   },
   "outputs": [
    {
     "name": "stdout",
     "output_type": "stream",
     "text": [
      "number of shop urls 7148\n"
     ]
    }
   ],
   "source": [
    "print \"number of shop urls {}\".format(len(shop_urls))\n"
   ]
  },
  {
   "cell_type": "code",
   "execution_count": null,
   "metadata": {
    "collapsed": false
   },
   "outputs": [],
   "source": [
    "from time import sleep \n",
    "from multiprocessing import Pool\n",
    "import sys\n",
    "\n",
    "directory = './shop/'\n",
    "\n",
    "if not os.path.exists(directory):\n",
    "    os.makedirs(directory)\n",
    "\n",
    "def job(url):\n",
    "  try:\n",
    "   # print url\n",
    "    driver = webdriver.PhantomJS(executable_path = executable_path)\n",
    "    driver.set_page_load_timeout(100)\n",
    "    \n",
    "    \n",
    "    driver.get(url[2]);\n",
    "    slp_flt =   random.uniform(10,15)                                                                                 \n",
    "    #print 'sleeping',slp_flt                                                                                        \n",
    "    sleep(slp_flt)                                                                                                                                                                                                                                          \n",
    "    pgsrc  = driver.page_source \n",
    "    soup = BeautifulSoup(pgsrc, 'html.parser')\n",
    "    fname= directory + str(url[0]) + '_'  + str(url[1]) + \"_image-gallery.html\" \n",
    "    outf = open(fname,\"w\")                                                                                          \n",
    "    outf.write(pgsrc.encode('utf-8'))\n",
    "    driver.close();\n",
    "  except:\n",
    "    print \"cannot complete\", url \n",
    "    print \"Unexpected error:\", sys.exc_info()[0]\n",
    "\n",
    " "
   ]
  },
  {
   "cell_type": "code",
   "execution_count": null,
   "metadata": {
    "collapsed": false
   },
   "outputs": [
    {
     "name": "stdout",
     "output_type": "stream",
     "text": [
      "INFO[Thu Jun 01 23:58:38 2017]:Event loop received close message.\n"
     ]
    }
   ],
   "source": [
    "count = 0;\n",
    "#newIP = changeip(newIP);\n",
    "renew_connection()\n",
    "for url in shop_urls:\n",
    "   count = count + 1\n",
    "   job(url)\n",
    "   if (count%20 == 0):\n",
    "    try: \n",
    "      renew_connection();\n",
    "    except:\n",
    "        pass;"
   ]
  },
  {
   "cell_type": "code",
   "execution_count": null,
   "metadata": {
    "collapsed": false
   },
   "outputs": [],
   "source": []
  },
  {
   "cell_type": "code",
   "execution_count": null,
   "metadata": {
    "collapsed": false
   },
   "outputs": [],
   "source": [
    "#print shop_urls[0:3]\n",
    "#pool.map(job, shop_urls)"
   ]
  },
  {
   "cell_type": "code",
   "execution_count": null,
   "metadata": {
    "collapsed": false
   },
   "outputs": [],
   "source": [
    "import glob\n",
    "import wget\n",
    "\n",
    "from BeautifulSoup import BeautifulSoup as bs\n",
    "import urlparse\n",
    "from urllib2 import urlopen\n",
    "from urllib import urlretrieve\n",
    "import os\n",
    "import sys\n",
    "import socket\n",
    "\n",
    "socket.setdefaulttimeout(30)\n",
    "\n",
    "def main(url, out_folder=\"./street/\", local = 1):\n",
    "    soup = bs(open(url))\n",
    "    #print url\n",
    "    count = 0;\n",
    "    for image in soup.findAll(\"img\"):\n",
    "        #print image\n",
    "        count = count + 1;\n",
    "        try: \n",
    "          #print image[\"src\"].split(\".\")[-1]\n",
    "         \n",
    "          filename = url.split('/')[2].split('.')[0] +  + '_' + str(count) + '_'+'.'+image[\"src\"].split(\".\")[-1]\n",
    "            \n",
    "        except:\n",
    "          #  print \"image not found\", \n",
    "            continue\n",
    "        image_url = urlparse.urljoin(url, image['src'])\n",
    "        try: \n",
    "           #print out_folder+filename\n",
    "           urlretrieve(image_url,out_folder+filename)\n",
    "        except:\n",
    "            pass\n",
    " \n",
    "\n",
    "          \n",
    "\n",
    "            "
   ]
  },
  {
   "cell_type": "code",
   "execution_count": null,
   "metadata": {
    "collapsed": false
   },
   "outputs": [],
   "source": [
    "\n",
    "\n",
    "out_folder = \"./shop/\"\n",
    "urls = glob.glob(out_folder+'/*.html');\n",
    "for i in xrange(1, len(urls)):\n",
    "    main(urls[i], out_folder)\n",
    "\n",
    "\n"
   ]
  },
  {
   "cell_type": "code",
   "execution_count": null,
   "metadata": {
    "collapsed": false
   },
   "outputs": [],
   "source": [
    "#from multiprocessing import Pool\n",
    "\n",
    "#pool = Pool()\n",
    "#pool.map(main, urls)"
   ]
  },
  {
   "cell_type": "code",
   "execution_count": null,
   "metadata": {
    "collapsed": false,
    "scrolled": false
   },
   "outputs": [],
   "source": []
  },
  {
   "cell_type": "code",
   "execution_count": null,
   "metadata": {
    "collapsed": false,
    "scrolled": true
   },
   "outputs": [],
   "source": []
  },
  {
   "cell_type": "code",
   "execution_count": null,
   "metadata": {
    "collapsed": true
   },
   "outputs": [],
   "source": []
  },
  {
   "cell_type": "code",
   "execution_count": null,
   "metadata": {
    "collapsed": false
   },
   "outputs": [],
   "source": []
  },
  {
   "cell_type": "code",
   "execution_count": null,
   "metadata": {
    "collapsed": false
   },
   "outputs": [],
   "source": []
  },
  {
   "cell_type": "code",
   "execution_count": null,
   "metadata": {
    "collapsed": false
   },
   "outputs": [],
   "source": []
  },
  {
   "cell_type": "code",
   "execution_count": null,
   "metadata": {
    "collapsed": false
   },
   "outputs": [],
   "source": []
  },
  {
   "cell_type": "code",
   "execution_count": null,
   "metadata": {
    "collapsed": false
   },
   "outputs": [],
   "source": []
  },
  {
   "cell_type": "code",
   "execution_count": null,
   "metadata": {
    "collapsed": false
   },
   "outputs": [],
   "source": []
  },
  {
   "cell_type": "code",
   "execution_count": null,
   "metadata": {
    "collapsed": false
   },
   "outputs": [],
   "source": []
  },
  {
   "cell_type": "code",
   "execution_count": null,
   "metadata": {
    "collapsed": false
   },
   "outputs": [],
   "source": [
    "\n",
    "\n"
   ]
  },
  {
   "cell_type": "code",
   "execution_count": null,
   "metadata": {
    "collapsed": false
   },
   "outputs": [],
   "source": [
    "\n"
   ]
  },
  {
   "cell_type": "code",
   "execution_count": null,
   "metadata": {
    "collapsed": false
   },
   "outputs": [],
   "source": [
    "#for img in soup2.findAll('a href'):\n",
    "#    print img"
   ]
  },
  {
   "cell_type": "code",
   "execution_count": null,
   "metadata": {
    "collapsed": false
   },
   "outputs": [],
   "source": []
  },
  {
   "cell_type": "code",
   "execution_count": null,
   "metadata": {
    "collapsed": false
   },
   "outputs": [],
   "source": [
    "#import re\n",
    "#urls = re.findall(r'href=[\\'\"]?(http://rstyle.me[^\\'\" >]+)', soup2.prettify())\n",
    "#print ', '.join(urls)\n"
   ]
  },
  {
   "cell_type": "code",
   "execution_count": null,
   "metadata": {
    "collapsed": false
   },
   "outputs": [],
   "source": []
  },
  {
   "cell_type": "code",
   "execution_count": null,
   "metadata": {
    "collapsed": false
   },
   "outputs": [],
   "source": []
  },
  {
   "cell_type": "code",
   "execution_count": null,
   "metadata": {
    "collapsed": false
   },
   "outputs": [],
   "source": []
  },
  {
   "cell_type": "code",
   "execution_count": null,
   "metadata": {
    "collapsed": false
   },
   "outputs": [],
   "source": []
  }
 ],
 "metadata": {
  "kernelspec": {
   "display_name": "Python 2",
   "language": "python",
   "name": "python2"
  },
  "language_info": {
   "codemirror_mode": {
    "name": "ipython",
    "version": 2
   },
   "file_extension": ".py",
   "mimetype": "text/x-python",
   "name": "python",
   "nbconvert_exporter": "python",
   "pygments_lexer": "ipython2",
   "version": "2.7.13"
  }
 },
 "nbformat": 4,
 "nbformat_minor": 0
}
